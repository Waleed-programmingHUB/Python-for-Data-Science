{
 "cells": [
  {
   "cell_type": "markdown",
   "id": "b071a293",
   "metadata": {},
   "source": [
    " #  Body Mass Index BMI\n",
    "  - Input weight\n",
    "  - Height\n",
    "  - BMI Ask your self your height\n",
    "  - Calculate BMI - Body Mass Index\n",
    "  - Print BMI print(\"My Name is\",name,\"and my BMI is\",_bmi)\n"
   ]
  },
  {
   "cell_type": "markdown",
   "id": "27dc0684",
   "metadata": {},
   "source": [
    "## My Program"
   ]
  },
  {
   "cell_type": "markdown",
   "id": "102f485a",
   "metadata": {},
   "source": [
    "## Weight in Kg/Height in mass its square"
   ]
  },
  {
   "cell_type": "code",
   "execution_count": 12,
   "id": "08d5bf25",
   "metadata": {},
   "outputs": [
    {
     "name": "stdout",
     "output_type": "stream",
     "text": [
      "Enter your current height: 7\n",
      "Enter your current weight: 67\n",
      "Enter your name: waleed\n",
      "Your Name is WALEED and my body mass index is 1\n",
      "1.3673469387755102\n"
     ]
    }
   ],
   "source": [
    "_height = input(\"Enter your current height: \")\n",
    "_weight = input(\"Enter your current weight: \")\n",
    "\n",
    "# converting data type in to Integer\n",
    "_height = int(_height)\n",
    "_weight = int(_weight)\n",
    "\n",
    "_name = input(\"Enter your name: \")\n",
    "\n",
    "_BMI = _weight / _height **2\n",
    "\n",
    "# printing the BMI with round the number\n",
    "print(\"Your Name is\",_name.upper(),\"and my body mass index is\",round(_BMI))\n",
    "print(_BMI)"
   ]
  },
  {
   "cell_type": "markdown",
   "id": "5b443d24",
   "metadata": {},
   "source": [
    "# Sir Program"
   ]
  },
  {
   "cell_type": "code",
   "execution_count": 13,
   "id": "0a31fbb2",
   "metadata": {},
   "outputs": [
    {
     "name": "stdout",
     "output_type": "stream",
     "text": [
      "Enter your current height: 5\n",
      "Enter your current weight: 67\n",
      "Enter your name: Waleed Ali Sarwar\n",
      "Your Name is Waleed Ali Sarwar and my body mass index is 2.68\n"
     ]
    }
   ],
   "source": [
    "_height = input(\"Enter your current height: \")\n",
    "_weight = input(\"Enter your current weight: \")\n",
    "\n",
    "# converting data type in to Integer\n",
    "_height = int(_height)\n",
    "_weight = int(_weight)\n",
    "\n",
    "_name = input(\"Enter your name: \")\n",
    "\n",
    "_BMI = _weight / _height **2\n",
    "\n",
    "# printing the BMI\n",
    "print(\"Your Name is\",_name,\"and my body mass index is\",_BMI)"
   ]
  }
 ],
 "metadata": {
  "kernelspec": {
   "display_name": "Python 3 (ipykernel)",
   "language": "python",
   "name": "python3"
  },
  "language_info": {
   "codemirror_mode": {
    "name": "ipython",
    "version": 3
   },
   "file_extension": ".py",
   "mimetype": "text/x-python",
   "name": "python",
   "nbconvert_exporter": "python",
   "pygments_lexer": "ipython3",
   "version": "3.9.7"
  }
 },
 "nbformat": 4,
 "nbformat_minor": 5
}
