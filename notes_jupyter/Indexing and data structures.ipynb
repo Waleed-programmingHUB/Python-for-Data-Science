{
 "cells": [
  {
   "cell_type": "markdown",
   "id": "3a6692df",
   "metadata": {},
   "source": [
    "# Indexing and Data structures"
   ]
  },
  {
   "cell_type": "markdown",
   "id": "1115eefa",
   "metadata": {},
   "source": [
    "# - ***Indexing***"
   ]
  },
  {
   "cell_type": "markdown",
   "id": "2648c6f7",
   "metadata": {},
   "source": [
    "# Make a string."
   ]
  },
  {
   "cell_type": "code",
   "execution_count": 1,
   "id": "b3e166c4",
   "metadata": {},
   "outputs": [
    {
     "data": {
      "text/plain": [
       "('Chicken biryani', 'Chicken daal', 'Beef Tikka')"
      ]
     },
     "execution_count": 1,
     "metadata": {},
     "output_type": "execute_result"
    }
   ],
   "source": [
    "# make a string\n",
    "_foodItem1 = \"Chicken biryani\"\n",
    "_foodItem2 = \"Chicken daal\"\n",
    "_foodItem3 = \"Beef Tikka\"\n",
    "\n",
    "_foodItem1,_foodItem2,_foodItem3"
   ]
  },
  {
   "cell_type": "code",
   "execution_count": 2,
   "id": "7c590c79",
   "metadata": {},
   "outputs": [
    {
     "data": {
      "text/plain": [
       "'Chicken biryani'"
      ]
     },
     "execution_count": 2,
     "metadata": {},
     "output_type": "execute_result"
    }
   ],
   "source": [
    "_foodItem1"
   ]
  },
  {
   "cell_type": "markdown",
   "id": "a40a5ba8",
   "metadata": {},
   "source": [
    "# Lenght of string"
   ]
  },
  {
   "cell_type": "markdown",
   "id": "9ef9fd31",
   "metadata": {},
   "source": [
    "**Length method**"
   ]
  },
  {
   "cell_type": "code",
   "execution_count": 3,
   "id": "e9f96410",
   "metadata": {},
   "outputs": [
    {
     "data": {
      "text/plain": [
       "12"
      ]
     },
     "execution_count": 3,
     "metadata": {},
     "output_type": "execute_result"
    }
   ],
   "source": [
    "len(_foodItem2)"
   ]
  },
  {
   "cell_type": "code",
   "execution_count": 4,
   "id": "261faccb",
   "metadata": {},
   "outputs": [
    {
     "data": {
      "text/plain": [
       "'C'"
      ]
     },
     "execution_count": 4,
     "metadata": {},
     "output_type": "execute_result"
    }
   ],
   "source": [
    "_foodItem2[0]"
   ]
  },
  {
   "cell_type": "code",
   "execution_count": 5,
   "id": "49627a56",
   "metadata": {},
   "outputs": [
    {
     "data": {
      "text/plain": [
       "'Chicken'"
      ]
     },
     "execution_count": 5,
     "metadata": {},
     "output_type": "execute_result"
    }
   ],
   "source": [
    "_foodItem2[0:7]"
   ]
  },
  {
   "cell_type": "markdown",
   "id": "2d586d07",
   "metadata": {},
   "source": [
    "# [range : range] \n",
    "## you must to be use the ratio key :"
   ]
  },
  {
   "cell_type": "code",
   "execution_count": 6,
   "id": "952fdf06",
   "metadata": {},
   "outputs": [
    {
     "data": {
      "text/plain": [
       "'Chicken'"
      ]
     },
     "execution_count": 6,
     "metadata": {},
     "output_type": "execute_result"
    }
   ],
   "source": [
    "_foodItem2[-12 : 7]"
   ]
  },
  {
   "cell_type": "markdown",
   "id": "95055d94",
   "metadata": {},
   "source": [
    "# String Methods"
   ]
  },
  {
   "cell_type": "markdown",
   "id": "20cf568d",
   "metadata": {},
   "source": [
    "**1- Capitalize method**"
   ]
  },
  {
   "cell_type": "code",
   "execution_count": 7,
   "id": "9ffec539",
   "metadata": {},
   "outputs": [
    {
     "data": {
      "text/plain": [
       "'Chicken daal'"
      ]
     },
     "execution_count": 7,
     "metadata": {},
     "output_type": "execute_result"
    }
   ],
   "source": [
    "_foodItem2.capitalize()"
   ]
  },
  {
   "cell_type": "markdown",
   "id": "61a0f1a3",
   "metadata": {},
   "source": [
    "**2- Uppercase method**"
   ]
  },
  {
   "cell_type": "code",
   "execution_count": 8,
   "id": "900ec20e",
   "metadata": {},
   "outputs": [
    {
     "data": {
      "text/plain": [
       "'CHICKEN BIRYANI'"
      ]
     },
     "execution_count": 8,
     "metadata": {},
     "output_type": "execute_result"
    }
   ],
   "source": [
    "_foodItem1.upper()"
   ]
  },
  {
   "cell_type": "markdown",
   "id": "245c789e",
   "metadata": {},
   "source": [
    "**3- Lowercase method**"
   ]
  },
  {
   "cell_type": "code",
   "execution_count": 9,
   "id": "5dfaea1d",
   "metadata": {},
   "outputs": [
    {
     "data": {
      "text/plain": [
       "'chicken daal'"
      ]
     },
     "execution_count": 9,
     "metadata": {},
     "output_type": "execute_result"
    }
   ],
   "source": [
    "_foodItem2.lower()"
   ]
  },
  {
   "cell_type": "markdown",
   "id": "24aa0360",
   "metadata": {},
   "source": [
    "**4- Replace method**"
   ]
  },
  {
   "cell_type": "code",
   "execution_count": 10,
   "id": "ce7de0af",
   "metadata": {},
   "outputs": [
    {
     "data": {
      "text/plain": [
       "'Chicken salan'"
      ]
     },
     "execution_count": 10,
     "metadata": {},
     "output_type": "execute_result"
    }
   ],
   "source": [
    "_foodItem2.replace(\"daal\",\"salan\")"
   ]
  },
  {
   "cell_type": "markdown",
   "id": "16cb1456",
   "metadata": {},
   "source": [
    "**5- Count method**"
   ]
  },
  {
   "cell_type": "code",
   "execution_count": 11,
   "id": "3bd78fb9",
   "metadata": {},
   "outputs": [
    {
     "data": {
      "text/plain": [
       "2"
      ]
     },
     "execution_count": 11,
     "metadata": {},
     "output_type": "execute_result"
    }
   ],
   "source": [
    "_personName = \"waleed_ali_sarwar\"\n",
    "_personName.count(\"_\")"
   ]
  },
  {
   "cell_type": "markdown",
   "id": "438b60a7",
   "metadata": {},
   "source": [
    "**6- Find method**"
   ]
  },
  {
   "cell_type": "code",
   "execution_count": 12,
   "id": "ec3b6291",
   "metadata": {},
   "outputs": [
    {
     "data": {
      "text/plain": [
       "11"
      ]
     },
     "execution_count": 12,
     "metadata": {},
     "output_type": "execute_result"
    }
   ],
   "source": [
    "_personName.find(\"s\")"
   ]
  },
  {
   "cell_type": "markdown",
   "id": "accfe4c0",
   "metadata": {},
   "source": [
    "**7- Split method**"
   ]
  },
  {
   "cell_type": "markdown",
   "id": "aad7c3ce",
   "metadata": {},
   "source": [
    "**Split a string in the variable and presented like a ARRAY**"
   ]
  },
  {
   "cell_type": "code",
   "execution_count": 13,
   "id": "8a1cbc2a",
   "metadata": {},
   "outputs": [
    {
     "data": {
      "text/plain": [
       "['MS Office',\n",
       " 'Website Designing',\n",
       " 'Programming',\n",
       " 'Databases',\n",
       " 'Graphics Designing',\n",
       " 'Gamming',\n",
       " 'Computer Repairing.']"
      ]
     },
     "execution_count": 13,
     "metadata": {},
     "output_type": "execute_result"
    }
   ],
   "source": [
    "_my_skills = \"MS Office,Website Designing,Programming,Databases,Graphics Designing,Gamming,Computer Repairing.\"\n",
    "_my_skills.split(\",\")"
   ]
  },
  {
   "attachments": {
    "download.png": {
     "image/png": "[encoded data removed]"
    }
   },
   "cell_type": "markdown",
   "id": "ac716940",
   "metadata": {},
   "source": [
    "![download.png](attachment:download.png)"
   ]
  },
  {
   "cell_type": "markdown",
   "id": "6aa56ddc",
   "metadata": {},
   "source": [
    "# Basic Data Structure in Python"
   ]
  },
  {
   "cell_type": "markdown",
   "id": "f86ccfda",
   "metadata": {},
   "source": [
    "**1. Tuple**"
   ]
  },
  {
   "cell_type": "markdown",
   "id": "c856094a",
   "metadata": {},
   "source": [
    "**2. List**"
   ]
  },
  {
   "cell_type": "markdown",
   "id": "031da9a4",
   "metadata": {},
   "source": [
    "**3. Dictionaries**"
   ]
  },
  {
   "cell_type": "markdown",
   "id": "3d33aaa6",
   "metadata": {},
   "source": [
    "**4. Set**"
   ]
  },
  {
   "cell_type": "markdown",
   "id": "ce133036",
   "metadata": {},
   "source": [
    "## 1. Tuple"
   ]
  },
  {
   "cell_type": "markdown",
   "id": "111f347c",
   "metadata": {},
   "source": [
    "- Ordered collection of element\n",
    "- enclosed in () round braces / paranthesis\n",
    "- Different kind of element can be stored\n",
    "- Once element are stored you cannot change them (unmutetable)"
   ]
  },
  {
   "cell_type": "markdown",
   "id": "169b32be",
   "metadata": {},
   "source": [
    "## Kinds of elements"
   ]
  },
  {
   "cell_type": "code",
   "execution_count": 14,
   "id": "a70c9111",
   "metadata": {},
   "outputs": [
    {
     "data": {
      "text/plain": [
       "(1, 'Waleed', True, 100)"
      ]
     },
     "execution_count": 14,
     "metadata": {},
     "output_type": "execute_result"
    }
   ],
   "source": [
    "_mytuple = (1,\"Waleed\",True,100)\n",
    "_mytuple"
   ]
  },
  {
   "cell_type": "code",
   "execution_count": 15,
   "id": "a9bb3132",
   "metadata": {},
   "outputs": [
    {
     "data": {
      "text/plain": [
       "tuple"
      ]
     },
     "execution_count": 15,
     "metadata": {},
     "output_type": "execute_result"
    }
   ],
   "source": [
    "# type of a tuple\n",
    "type(_mytuple)"
   ]
  },
  {
   "cell_type": "markdown",
   "id": "4e612b58",
   "metadata": {},
   "source": [
    "## -Indexing in Tuple"
   ]
  },
  {
   "cell_type": "code",
   "execution_count": 16,
   "id": "ea7a5db4",
   "metadata": {},
   "outputs": [],
   "source": [
    "_mytuple2 = (2,\"Ali Sarwar\",True,200)"
   ]
  },
  {
   "cell_type": "code",
   "execution_count": 17,
   "id": "dc2263fa",
   "metadata": {},
   "outputs": [
    {
     "data": {
      "text/plain": [
       "(1, 'Waleed', True, 100)"
      ]
     },
     "execution_count": 17,
     "metadata": {},
     "output_type": "execute_result"
    }
   ],
   "source": [
    "_mytuple"
   ]
  },
  {
   "cell_type": "markdown",
   "id": "d83552bd",
   "metadata": {},
   "source": [
    "### Concatenate two Tuples"
   ]
  },
  {
   "cell_type": "code",
   "execution_count": 18,
   "id": "07894780",
   "metadata": {},
   "outputs": [
    {
     "data": {
      "text/plain": [
       "(1, 'Waleed', True, 100, 2, 'Ali Sarwar', True, 200)"
      ]
     },
     "execution_count": 18,
     "metadata": {},
     "output_type": "execute_result"
    }
   ],
   "source": [
    "_mytuple + _mytuple2"
   ]
  },
  {
   "cell_type": "markdown",
   "id": "1ebd918c",
   "metadata": {},
   "source": [
    "### Check the smallest number of tuple min() method"
   ]
  },
  {
   "cell_type": "code",
   "execution_count": 19,
   "id": "dbf71b3a",
   "metadata": {},
   "outputs": [
    {
     "data": {
      "text/plain": [
       "100"
      ]
     },
     "execution_count": 19,
     "metadata": {},
     "output_type": "execute_result"
    }
   ],
   "source": [
    "_num = (100,200,300,400)\n",
    "min(_num)"
   ]
  },
  {
   "cell_type": "markdown",
   "id": "8da28a7e",
   "metadata": {},
   "source": [
    "### Check the largest number of tuple max() method"
   ]
  },
  {
   "cell_type": "code",
   "execution_count": 20,
   "id": "48b1a08f",
   "metadata": {},
   "outputs": [
    {
     "data": {
      "text/plain": [
       "400.1"
      ]
     },
     "execution_count": 20,
     "metadata": {},
     "output_type": "execute_result"
    }
   ],
   "source": [
    "_num2 = (300,100,200,400.1)\n",
    "max(_num2)"
   ]
  },
  {
   "cell_type": "code",
   "execution_count": 21,
   "id": "97c754c4",
   "metadata": {},
   "outputs": [
    {
     "data": {
      "text/plain": [
       "(300, 100, 200, 400.1, 300, 100, 200, 400.1)"
      ]
     },
     "execution_count": 21,
     "metadata": {},
     "output_type": "execute_result"
    }
   ],
   "source": [
    "_num2*2"
   ]
  },
  {
   "cell_type": "markdown",
   "id": "c02df850",
   "metadata": {},
   "source": [
    "## 2. List"
   ]
  },
  {
   "cell_type": "markdown",
   "id": "269d7be7",
   "metadata": {},
   "source": [
    "- Ordered collection of element\n",
    "- enclosed in [ ] Square brackets / braces \n",
    "- mutetable, you can change the values"
   ]
  },
  {
   "cell_type": "markdown",
   "id": "60d5db05",
   "metadata": {},
   "source": [
    "## -Indexing in List"
   ]
  },
  {
   "cell_type": "code",
   "execution_count": 22,
   "id": "f79ba644",
   "metadata": {},
   "outputs": [
    {
     "data": {
      "text/plain": [
       "['Osama', 'Hammad', 'Haasaan']"
      ]
     },
     "execution_count": 22,
     "metadata": {},
     "output_type": "execute_result"
    }
   ],
   "source": [
    "friends = [\"Osama\",\"Hammad\",\"Haasaan\"]\n",
    "friends"
   ]
  },
  {
   "cell_type": "markdown",
   "id": "d0c26bc3",
   "metadata": {},
   "source": [
    "## print the type of datatype - type()"
   ]
  },
  {
   "cell_type": "code",
   "execution_count": 23,
   "id": "cd33c2a1",
   "metadata": {},
   "outputs": [
    {
     "data": {
      "text/plain": [
       "list"
      ]
     },
     "execution_count": 23,
     "metadata": {},
     "output_type": "execute_result"
    }
   ],
   "source": [
    "type(friends)"
   ]
  },
  {
   "cell_type": "markdown",
   "id": "1ae3fa0a",
   "metadata": {},
   "source": [
    "## print the length of list - len()"
   ]
  },
  {
   "cell_type": "code",
   "execution_count": 24,
   "id": "acda321b",
   "metadata": {},
   "outputs": [
    {
     "data": {
      "text/plain": [
       "3"
      ]
     },
     "execution_count": 24,
     "metadata": {},
     "output_type": "execute_result"
    }
   ],
   "source": [
    "len(friends)"
   ]
  },
  {
   "cell_type": "markdown",
   "id": "3a99580a",
   "metadata": {},
   "source": [
    "## print the particular text of the list - list[number]"
   ]
  },
  {
   "cell_type": "code",
   "execution_count": 25,
   "id": "2c445191",
   "metadata": {},
   "outputs": [
    {
     "data": {
      "text/plain": [
       "'Hammad'"
      ]
     },
     "execution_count": 25,
     "metadata": {},
     "output_type": "execute_result"
    }
   ],
   "source": [
    "friends[1]"
   ]
  },
  {
   "cell_type": "markdown",
   "id": "fbf5790a",
   "metadata": {},
   "source": [
    "## printing the list"
   ]
  },
  {
   "cell_type": "code",
   "execution_count": 26,
   "id": "08b202cd",
   "metadata": {},
   "outputs": [
    {
     "data": {
      "text/plain": [
       "[1, 'waleed', True, 346]"
      ]
     },
     "execution_count": 26,
     "metadata": {},
     "output_type": "execute_result"
    }
   ],
   "source": [
    "_list2 = [1,\"waleed\",True,346]\n",
    "_list2"
   ]
  },
  {
   "cell_type": "code",
   "execution_count": 27,
   "id": "f05785fb",
   "metadata": {},
   "outputs": [
    {
     "data": {
      "text/plain": [
       "[2, 'Usama', True, 786]"
      ]
     },
     "execution_count": 27,
     "metadata": {},
     "output_type": "execute_result"
    }
   ],
   "source": [
    "_list3 = [2,\"Usama\",True,786]\n",
    "_list3"
   ]
  },
  {
   "cell_type": "markdown",
   "id": "51f5a126",
   "metadata": {},
   "source": [
    "## concatenate the list "
   ]
  },
  {
   "cell_type": "code",
   "execution_count": 28,
   "id": "f17a60e2",
   "metadata": {},
   "outputs": [
    {
     "data": {
      "text/plain": [
       "['Osama', 'Hammad', 'Haasaan', 1, 'waleed', True, 346]"
      ]
     },
     "execution_count": 28,
     "metadata": {},
     "output_type": "execute_result"
    }
   ],
   "source": [
    "friends + _list2"
   ]
  },
  {
   "cell_type": "markdown",
   "id": "1fa46d1f",
   "metadata": {},
   "source": [
    "## reversing the list of arrangement - reverse()"
   ]
  },
  {
   "cell_type": "code",
   "execution_count": 29,
   "id": "d9eea23a",
   "metadata": {},
   "outputs": [],
   "source": [
    "friends.reverse()"
   ]
  },
  {
   "cell_type": "markdown",
   "id": "aeb06a91",
   "metadata": {},
   "source": [
    "## printing the list"
   ]
  },
  {
   "cell_type": "code",
   "execution_count": 30,
   "id": "d6441fab",
   "metadata": {},
   "outputs": [
    {
     "data": {
      "text/plain": [
       "['Haasaan', 'Hammad', 'Osama']"
      ]
     },
     "execution_count": 30,
     "metadata": {},
     "output_type": "execute_result"
    }
   ],
   "source": [
    "friends"
   ]
  },
  {
   "cell_type": "markdown",
   "id": "5451852c",
   "metadata": {},
   "source": [
    "## appending the list - append() "
   ]
  },
  {
   "cell_type": "code",
   "execution_count": 31,
   "id": "081f5bc9",
   "metadata": {},
   "outputs": [],
   "source": [
    "friends.append(\"Muzammil\")"
   ]
  },
  {
   "cell_type": "code",
   "execution_count": 32,
   "id": "0c8caccf",
   "metadata": {},
   "outputs": [],
   "source": [
    "_number = [1,2,3,5,4,6,7,10,9,8]"
   ]
  },
  {
   "cell_type": "markdown",
   "id": "8dae8934",
   "metadata": {},
   "source": [
    "## ascending order the list of number - sort()"
   ]
  },
  {
   "cell_type": "code",
   "execution_count": 33,
   "id": "48cdb8c8",
   "metadata": {},
   "outputs": [
    {
     "data": {
      "text/plain": [
       "[1, 2, 3, 4, 5, 6, 7, 8, 9, 10]"
      ]
     },
     "execution_count": 33,
     "metadata": {},
     "output_type": "execute_result"
    }
   ],
   "source": [
    "_number.sort()\n",
    "_number"
   ]
  },
  {
   "cell_type": "code",
   "execution_count": 34,
   "id": "d17f7bef",
   "metadata": {},
   "outputs": [],
   "source": [
    "list_menu = [10,100,1000,10000,100000,20,200,2000,20000,200000]"
   ]
  },
  {
   "cell_type": "markdown",
   "id": "66f777fe",
   "metadata": {},
   "source": [
    "## printing the length of list - len()"
   ]
  },
  {
   "cell_type": "code",
   "execution_count": 35,
   "id": "423b01d5",
   "metadata": {},
   "outputs": [
    {
     "data": {
      "text/plain": [
       "10"
      ]
     },
     "execution_count": 35,
     "metadata": {},
     "output_type": "execute_result"
    }
   ],
   "source": [
    "len(list_menu)"
   ]
  },
  {
   "cell_type": "markdown",
   "id": "e593fed7",
   "metadata": {},
   "source": [
    "## 3. Dictionary\n",
    "- an unordered the collection of elements\n",
    "- key and value \n",
    "- curly braces / brackets { }\n",
    "- mutetable / change the value"
   ]
  },
  {
   "cell_type": "markdown",
   "id": "ebec852f",
   "metadata": {},
   "source": [
    "## Indexing of Dictionaries\n",
    "**Syntax :**"
   ]
  },
  {
   "cell_type": "code",
   "execution_count": 36,
   "id": "253ec660",
   "metadata": {},
   "outputs": [],
   "source": [
    "_dict_fruits = {\"Apple\" : 10, \"Cherry\" : 20, \"Grapes\" : 30, \"Banana\" : 40, \"PineApple\" : 50}"
   ]
  },
  {
   "cell_type": "code",
   "execution_count": 37,
   "id": "1ba4a134",
   "metadata": {},
   "outputs": [],
   "source": [
    "_dict_vegetables = {\"Potato\" : 60 , \"Cabbage\" : 20 ,\"Carrot\" : 100, \"Green-Chilli\" : 15}"
   ]
  },
  {
   "cell_type": "markdown",
   "id": "364a178b",
   "metadata": {},
   "source": [
    "### printing the dictionaries of fruits and vegetables"
   ]
  },
  {
   "cell_type": "code",
   "execution_count": 38,
   "id": "33958a22",
   "metadata": {},
   "outputs": [
    {
     "data": {
      "text/plain": [
       "{'Apple': 10, 'Cherry': 20, 'Grapes': 30, 'Banana': 40, 'PineApple': 50}"
      ]
     },
     "execution_count": 38,
     "metadata": {},
     "output_type": "execute_result"
    }
   ],
   "source": [
    "_dict_fruits"
   ]
  },
  {
   "cell_type": "code",
   "execution_count": 39,
   "id": "54b1159a",
   "metadata": {},
   "outputs": [
    {
     "data": {
      "text/plain": [
       "{'Potato': 60, 'Cabbage': 20, 'Carrot': 100, 'Green-Chilli': 15}"
      ]
     },
     "execution_count": 39,
     "metadata": {},
     "output_type": "execute_result"
    }
   ],
   "source": [
    "_dict_vegetables"
   ]
  },
  {
   "cell_type": "markdown",
   "id": "1372925a",
   "metadata": {},
   "source": [
    "### showing the fruits and vegetables of value - values() "
   ]
  },
  {
   "cell_type": "code",
   "execution_count": 40,
   "id": "7d56375a",
   "metadata": {},
   "outputs": [],
   "source": [
    "fruits_container = _dict_fruits.values()\n",
    "vegetables_container = _dict_vegetables.values()"
   ]
  },
  {
   "cell_type": "code",
   "execution_count": 41,
   "id": "d391a19f",
   "metadata": {},
   "outputs": [
    {
     "data": {
      "text/plain": [
       "dict_values([10, 20, 30, 40, 50])"
      ]
     },
     "execution_count": 41,
     "metadata": {},
     "output_type": "execute_result"
    }
   ],
   "source": [
    "fruits_container"
   ]
  },
  {
   "cell_type": "code",
   "execution_count": 42,
   "id": "2c588119",
   "metadata": {},
   "outputs": [
    {
     "data": {
      "text/plain": [
       "dict_values([60, 20, 100, 15])"
      ]
     },
     "execution_count": 42,
     "metadata": {},
     "output_type": "execute_result"
    }
   ],
   "source": [
    "vegetables_container"
   ]
  },
  {
   "cell_type": "markdown",
   "id": "e4de40fb",
   "metadata": {},
   "source": [
    "### append the dictionaries of fruits and vegetables"
   ]
  },
  {
   "cell_type": "code",
   "execution_count": 43,
   "id": "ac94a459",
   "metadata": {},
   "outputs": [
    {
     "data": {
      "text/plain": [
       "{'Apple': 10,\n",
       " 'Cherry': 20,\n",
       " 'Grapes': 30,\n",
       " 'Banana': 40,\n",
       " 'PineApple': 50,\n",
       " 'Orange': 60}"
      ]
     },
     "execution_count": 43,
     "metadata": {},
     "output_type": "execute_result"
    }
   ],
   "source": [
    "_dict_fruits[\"Orange\"] = 60\n",
    "_dict_fruits"
   ]
  },
  {
   "cell_type": "code",
   "execution_count": 44,
   "id": "74ecc4e5",
   "metadata": {},
   "outputs": [
    {
     "data": {
      "text/plain": [
       "{'Potato': 60, 'Cabbage': 20, 'Carrot': 100, 'Green-Chilli': 15, 'Onions': 30}"
      ]
     },
     "execution_count": 44,
     "metadata": {},
     "output_type": "execute_result"
    }
   ],
   "source": [
    "_dict_vegetables[\"Onions\"] = 30\n",
    "_dict_vegetables"
   ]
  },
  {
   "cell_type": "markdown",
   "id": "e34b0a16",
   "metadata": {},
   "source": [
    "### concatenate the dictionaries of fruits and vegetables - update()"
   ]
  },
  {
   "cell_type": "code",
   "execution_count": 45,
   "id": "b4e7e333",
   "metadata": {},
   "outputs": [],
   "source": [
    "_dict_fruits.update(_dict_vegetables)"
   ]
  },
  {
   "cell_type": "code",
   "execution_count": 46,
   "id": "94cd923f",
   "metadata": {},
   "outputs": [],
   "source": [
    "kitchenItem = _dict_fruits"
   ]
  },
  {
   "cell_type": "code",
   "execution_count": 47,
   "id": "3f91dea9",
   "metadata": {},
   "outputs": [
    {
     "data": {
      "text/plain": [
       "{'Apple': 10,\n",
       " 'Cherry': 20,\n",
       " 'Grapes': 30,\n",
       " 'Banana': 40,\n",
       " 'PineApple': 50,\n",
       " 'Orange': 60,\n",
       " 'Potato': 60,\n",
       " 'Cabbage': 20,\n",
       " 'Carrot': 100,\n",
       " 'Green-Chilli': 15,\n",
       " 'Onions': 30}"
      ]
     },
     "execution_count": 47,
     "metadata": {},
     "output_type": "execute_result"
    }
   ],
   "source": [
    "kitchenItem"
   ]
  },
  {
   "cell_type": "code",
   "execution_count": 48,
   "id": "c11002a2",
   "metadata": {},
   "outputs": [
    {
     "data": {
      "text/plain": [
       "dict_keys(['Apple', 'Cherry', 'Grapes', 'Banana', 'PineApple', 'Orange', 'Potato', 'Cabbage', 'Carrot', 'Green-Chilli', 'Onions'])"
      ]
     },
     "execution_count": 48,
     "metadata": {},
     "output_type": "execute_result"
    }
   ],
   "source": [
    "kitchenItem.keys()"
   ]
  },
  {
   "cell_type": "markdown",
   "id": "092fca2b",
   "metadata": {},
   "source": [
    "## 4. Set\n",
    "- Unordered and unindexed\n",
    "- Cruly braces / brackets are used { }\n",
    "- No Duplicates allowed\n",
    "- Boolean types are not allowed"
   ]
  },
  {
   "cell_type": "markdown",
   "id": "49bd1f89",
   "metadata": {},
   "source": [
    "## -Indexing of Set\n",
    "**Syntax :**"
   ]
  },
  {
   "cell_type": "code",
   "execution_count": 49,
   "id": "1ccf3fb2",
   "metadata": {},
   "outputs": [],
   "source": [
    "# without booleans\n",
    "\n",
    "_set_MuslimsCountry = {1,2,3,\"Pakistan\",\"Turkey\",\"Suadia Arabia\"}\n",
    "\n",
    "_set_NonMuslimsCountry = {1,2,3,\"Canada\",\"Germany\",\"United States of Ammerica\"}"
   ]
  },
  {
   "cell_type": "code",
   "execution_count": 50,
   "id": "c0eae4c5",
   "metadata": {},
   "outputs": [
    {
     "data": {
      "text/plain": [
       "{1, 2, 3, 'Pakistan', 'Suadia Arabia', 'Turkey'}"
      ]
     },
     "execution_count": 50,
     "metadata": {},
     "output_type": "execute_result"
    }
   ],
   "source": [
    "_set_MuslimsCountry"
   ]
  },
  {
   "cell_type": "code",
   "execution_count": 51,
   "id": "145371b9",
   "metadata": {},
   "outputs": [
    {
     "data": {
      "text/plain": [
       "{1, 2, 3, 'Canada', 'Germany', 'United States of Ammerica'}"
      ]
     },
     "execution_count": 51,
     "metadata": {},
     "output_type": "execute_result"
    }
   ],
   "source": [
    "_set_NonMuslimsCountry "
   ]
  },
  {
   "cell_type": "code",
   "execution_count": 52,
   "id": "48e7cd1c",
   "metadata": {},
   "outputs": [],
   "source": [
    "# with booleans\n",
    "_set2_MuslimsCountry = {1,2,3,\"Pakistan\",\"Turkey\",\"Suadia Arabia\",True}\n",
    "\n",
    "_set2_NonMuslimsCountry = {1,2,3,\"Canada\",\"Germany\",\"United States of Ammerica\",False}"
   ]
  },
  {
   "cell_type": "code",
   "execution_count": 53,
   "id": "490aea5a",
   "metadata": {},
   "outputs": [
    {
     "data": {
      "text/plain": [
       "{1, 2, 3, 'Pakistan', 'Suadia Arabia', 'Turkey'}"
      ]
     },
     "execution_count": 53,
     "metadata": {},
     "output_type": "execute_result"
    }
   ],
   "source": [
    "_set2_MuslimsCountry"
   ]
  },
  {
   "cell_type": "code",
   "execution_count": 54,
   "id": "de8cc7cc",
   "metadata": {},
   "outputs": [
    {
     "data": {
      "text/plain": [
       "{1, 2, 3, 'Canada', False, 'Germany', 'United States of Ammerica'}"
      ]
     },
     "execution_count": 54,
     "metadata": {},
     "output_type": "execute_result"
    }
   ],
   "source": [
    "_set2_NonMuslimsCountry"
   ]
  },
  {
   "cell_type": "markdown",
   "id": "11ed1a35",
   "metadata": {},
   "source": [
    "## Adding the set - add()"
   ]
  },
  {
   "cell_type": "code",
   "execution_count": 55,
   "id": "7b1287d5",
   "metadata": {},
   "outputs": [],
   "source": [
    "_set_MuslimsCountry.add(4)"
   ]
  },
  {
   "cell_type": "code",
   "execution_count": 56,
   "id": "e0e679ff",
   "metadata": {},
   "outputs": [],
   "source": [
    "_set_NonMuslimsCountry.add(4)"
   ]
  },
  {
   "cell_type": "code",
   "execution_count": 57,
   "id": "85f6c888",
   "metadata": {},
   "outputs": [],
   "source": [
    "_set_MuslimsCountry.add(\"UAE\")"
   ]
  },
  {
   "cell_type": "code",
   "execution_count": 58,
   "id": "29c87b9c",
   "metadata": {},
   "outputs": [],
   "source": [
    "_set_NonMuslimsCountry.add(\"China\")"
   ]
  },
  {
   "cell_type": "markdown",
   "id": "e46907ca",
   "metadata": {},
   "source": [
    "## Remove the data form the set - remove()"
   ]
  },
  {
   "cell_type": "code",
   "execution_count": 59,
   "id": "f89796a7",
   "metadata": {},
   "outputs": [
    {
     "data": {
      "text/plain": [
       "{1, 2, 'Suadia Arabia', 'Turkey'}"
      ]
     },
     "execution_count": 59,
     "metadata": {},
     "output_type": "execute_result"
    }
   ],
   "source": [
    "_set2_MuslimsCountry.remove(\"Pakistan\")\n",
    "_set2_MuslimsCountry.remove(3)\n",
    "_set2_MuslimsCountry"
   ]
  },
  {
   "cell_type": "markdown",
   "id": "7dcc1cd9",
   "metadata": {},
   "source": [
    "## printing the output of set"
   ]
  },
  {
   "cell_type": "code",
   "execution_count": 60,
   "id": "a36aa4aa",
   "metadata": {},
   "outputs": [
    {
     "data": {
      "text/plain": [
       "{1, 2, 3, 4, 'Pakistan', 'Suadia Arabia', 'Turkey', 'UAE'}"
      ]
     },
     "execution_count": 60,
     "metadata": {},
     "output_type": "execute_result"
    }
   ],
   "source": [
    "_set_MuslimsCountry"
   ]
  },
  {
   "cell_type": "code",
   "execution_count": 61,
   "id": "45c33f83",
   "metadata": {},
   "outputs": [
    {
     "data": {
      "text/plain": [
       "{1, 2, 3, 4, 'Canada', 'China', 'Germany', 'United States of Ammerica'}"
      ]
     },
     "execution_count": 61,
     "metadata": {},
     "output_type": "execute_result"
    }
   ],
   "source": [
    "_set_NonMuslimsCountry"
   ]
  },
  {
   "cell_type": "markdown",
   "id": "38a7879c",
   "metadata": {},
   "source": [
    "## Using List Data Structure \n",
    "## 1. Assignement "
   ]
  },
  {
   "cell_type": "markdown",
   "id": "1ef20f86",
   "metadata": {},
   "source": [
    "**count() method returns the number of times a specified value appears in the list.**\n",
    "Syntax : count(\"contain_text\")\n",
    "         return a numbers of repeat word"
   ]
  },
  {
   "cell_type": "code",
   "execution_count": 62,
   "id": "9505c0c1",
   "metadata": {},
   "outputs": [],
   "source": [
    "_muslimsName = [\"Ali\",\"Sarwar\",\"Waleed\",\"Ali\",\"Muzammil\",\"Kamal\",\"Salman\",\"Ali\",\"Naveed\",\"Kamal\",\"Ali\"]"
   ]
  },
  {
   "cell_type": "code",
   "execution_count": 63,
   "id": "523046dd",
   "metadata": {},
   "outputs": [
    {
     "data": {
      "text/plain": [
       "4"
      ]
     },
     "execution_count": 63,
     "metadata": {},
     "output_type": "execute_result"
    }
   ],
   "source": [
    "_muslimsName.count(\"Ali\")"
   ]
  },
  {
   "cell_type": "code",
   "execution_count": 64,
   "id": "f8669e8d",
   "metadata": {},
   "outputs": [
    {
     "data": {
      "text/plain": [
       "1"
      ]
     },
     "execution_count": 64,
     "metadata": {},
     "output_type": "execute_result"
    }
   ],
   "source": [
    "_muslimsName.count(\"Waleed\")"
   ]
  },
  {
   "cell_type": "code",
   "execution_count": 65,
   "id": "5699bb9f",
   "metadata": {},
   "outputs": [
    {
     "data": {
      "text/plain": [
       "2"
      ]
     },
     "execution_count": 65,
     "metadata": {},
     "output_type": "execute_result"
    }
   ],
   "source": [
    "_muslimsName.count(\"Kamal\")"
   ]
  },
  {
   "cell_type": "code",
   "execution_count": 66,
   "id": "d0fa20da",
   "metadata": {},
   "outputs": [
    {
     "data": {
      "text/plain": [
       "1"
      ]
     },
     "execution_count": 66,
     "metadata": {},
     "output_type": "execute_result"
    }
   ],
   "source": [
    "_muslimsName.count(\"Muzammil\")"
   ]
  },
  {
   "cell_type": "markdown",
   "id": "e1adf413",
   "metadata": {},
   "source": [
    "# Set Data Structure\n",
    "## Assignements \n",
    "**{ Practice area }**"
   ]
  },
  {
   "cell_type": "code",
   "execution_count": 67,
   "id": "97bc8783",
   "metadata": {},
   "outputs": [],
   "source": [
    "# Set Data Structure\n",
    "_my_setprogramming = {1 : \"HTML\", 2 : \"Javascript\", 3 : \"Python\" , 4 : \"C-Sharp\"}"
   ]
  },
  {
   "cell_type": "code",
   "execution_count": 68,
   "id": "22a98066",
   "metadata": {},
   "outputs": [
    {
     "data": {
      "text/plain": [
       "{1: 'HTML', 2: 'Javascript', 3: 'Python', 4: 'C-Sharp'}"
      ]
     },
     "execution_count": 68,
     "metadata": {},
     "output_type": "execute_result"
    }
   ],
   "source": [
    "_my_setprogramming"
   ]
  },
  {
   "cell_type": "code",
   "execution_count": 69,
   "id": "e042bbcb",
   "metadata": {},
   "outputs": [
    {
     "data": {
      "text/plain": [
       "dict_values(['HTML', 'Javascript', 'Python', 'C-Sharp'])"
      ]
     },
     "execution_count": 69,
     "metadata": {},
     "output_type": "execute_result"
    }
   ],
   "source": [
    "_programming = _my_setprogramming.values()\n",
    "_programming"
   ]
  },
  {
   "cell_type": "code",
   "execution_count": 70,
   "id": "f943d939",
   "metadata": {},
   "outputs": [
    {
     "data": {
      "text/plain": [
       "dict_keys([1, 2, 3, 4])"
      ]
     },
     "execution_count": 70,
     "metadata": {},
     "output_type": "execute_result"
    }
   ],
   "source": [
    "_programmingK = _my_setprogramming.keys()\n",
    "_programmingK"
   ]
  },
  {
   "cell_type": "markdown",
   "id": "5f3b87a7",
   "metadata": {},
   "source": [
    " "
   ]
  },
  {
   "cell_type": "markdown",
   "id": "fb651c62",
   "metadata": {},
   "source": [
    "# Tuple Data Structures \n"
   ]
  },
  {
   "cell_type": "code",
   "execution_count": 71,
   "id": "bf1d9640",
   "metadata": {},
   "outputs": [],
   "source": [
    "# tuples\n",
    "# syntax\n",
    "characters = (\"A\",\"B\",\"C\")\n",
    "t = (1,10,100,2,20,200,3,30,300)"
   ]
  },
  {
   "cell_type": "code",
   "execution_count": 72,
   "id": "b6fb600d",
   "metadata": {},
   "outputs": [
    {
     "data": {
      "text/plain": [
       "('A', 'B', 'C')"
      ]
     },
     "execution_count": 72,
     "metadata": {},
     "output_type": "execute_result"
    }
   ],
   "source": [
    "characters"
   ]
  },
  {
   "cell_type": "code",
   "execution_count": 73,
   "id": "2dd19915",
   "metadata": {},
   "outputs": [
    {
     "data": {
      "text/plain": [
       "(1, 10, 100, 2, 20, 200, 3, 30, 300)"
      ]
     },
     "execution_count": 73,
     "metadata": {},
     "output_type": "execute_result"
    }
   ],
   "source": [
    "t"
   ]
  },
  {
   "cell_type": "code",
   "execution_count": 74,
   "id": "050d659f",
   "metadata": {},
   "outputs": [
    {
     "data": {
      "text/plain": [
       "9"
      ]
     },
     "execution_count": 74,
     "metadata": {},
     "output_type": "execute_result"
    }
   ],
   "source": [
    "len(t)"
   ]
  },
  {
   "cell_type": "code",
   "execution_count": 75,
   "id": "7d15dbc4",
   "metadata": {},
   "outputs": [
    {
     "data": {
      "text/plain": [
       "tuple"
      ]
     },
     "execution_count": 75,
     "metadata": {},
     "output_type": "execute_result"
    }
   ],
   "source": [
    "type(characters)"
   ]
  },
  {
   "cell_type": "code",
   "execution_count": 76,
   "id": "b1846dd6",
   "metadata": {},
   "outputs": [
    {
     "data": {
      "text/plain": [
       "tuple"
      ]
     },
     "execution_count": 76,
     "metadata": {},
     "output_type": "execute_result"
    }
   ],
   "source": [
    "type(t)"
   ]
  },
  {
   "cell_type": "code",
   "execution_count": 77,
   "id": "07798c90",
   "metadata": {},
   "outputs": [
    {
     "data": {
      "text/plain": [
       "10"
      ]
     },
     "execution_count": 77,
     "metadata": {},
     "output_type": "execute_result"
    }
   ],
   "source": [
    "# Negative Indexing\n",
    "t[-8]"
   ]
  },
  {
   "cell_type": "code",
   "execution_count": 78,
   "id": "71d71d0f",
   "metadata": {},
   "outputs": [
    {
     "data": {
      "text/plain": [
       "(1, 10, 100)"
      ]
     },
     "execution_count": 78,
     "metadata": {},
     "output_type": "execute_result"
    }
   ],
   "source": [
    "# Range Indexing \n",
    "t[0:3]"
   ]
  },
  {
   "cell_type": "code",
   "execution_count": 79,
   "id": "f9a56c4a",
   "metadata": {},
   "outputs": [
    {
     "name": "stdout",
     "output_type": "stream",
     "text": [
      "A\n",
      "B\n",
      "C\n",
      "D\n"
     ]
    }
   ],
   "source": [
    "# for loop\n",
    "_section = (\"a\",\"b\",\"c\",\"d\")\n",
    "for s in _section:\n",
    "    print(s.capitalize())"
   ]
  },
  {
   "cell_type": "code",
   "execution_count": 80,
   "id": "292e70ff",
   "metadata": {},
   "outputs": [
    {
     "data": {
      "text/plain": [
       "(1, 2, 3, 4, '1st', '2nd', '3rd', '4th')"
      ]
     },
     "execution_count": 80,
     "metadata": {},
     "output_type": "execute_result"
    }
   ],
   "source": [
    "# concatenate tuples\n",
    "a = (1,2,3,4)\n",
    "b = (\"1st\",\"2nd\",\"3rd\",\"4th\")\n",
    "c_tuples = a + b\n",
    "c_tuples"
   ]
  },
  {
   "cell_type": "code",
   "execution_count": 81,
   "id": "9ce31c84",
   "metadata": {},
   "outputs": [
    {
     "data": {
      "text/plain": [
       "1"
      ]
     },
     "execution_count": 81,
     "metadata": {},
     "output_type": "execute_result"
    }
   ],
   "source": [
    "# count tuple\n",
    "c_tuples.count(3)\n",
    "# return a repitition of item"
   ]
  },
  {
   "cell_type": "code",
   "execution_count": 82,
   "id": "7cb75f1c",
   "metadata": {},
   "outputs": [
    {
     "data": {
      "text/plain": [
       "4"
      ]
     },
     "execution_count": 82,
     "metadata": {},
     "output_type": "execute_result"
    }
   ],
   "source": [
    "# index tuple \n",
    "# printing a position of the tuple value\n",
    "c_tuples.index(\"1st\")"
   ]
  },
  {
   "cell_type": "code",
   "execution_count": 83,
   "id": "718ba96d",
   "metadata": {},
   "outputs": [
    {
     "data": {
      "text/plain": [
       "8"
      ]
     },
     "execution_count": 83,
     "metadata": {},
     "output_type": "execute_result"
    }
   ],
   "source": [
    "# printing my tuple length\n",
    "len(c_tuples)"
   ]
  },
  {
   "cell_type": "markdown",
   "id": "b939282a",
   "metadata": {},
   "source": [
    "## List Data Structure"
   ]
  },
  {
   "cell_type": "code",
   "execution_count": 84,
   "id": "da760294",
   "metadata": {},
   "outputs": [],
   "source": [
    "# list \n",
    "urdu_list = [\"اردو مین پیاتھون کا چلھ\",\"میرا نام ولید ھے\"]"
   ]
  },
  {
   "cell_type": "code",
   "execution_count": 85,
   "id": "113fc11e",
   "metadata": {},
   "outputs": [
    {
     "data": {
      "text/plain": [
       "['اردو مین پیاتھون کا چلھ', 'میرا نام ولید ھے']"
      ]
     },
     "execution_count": 85,
     "metadata": {},
     "output_type": "execute_result"
    }
   ],
   "source": [
    "urdu_list"
   ]
  },
  {
   "cell_type": "code",
   "execution_count": 86,
   "id": "fc80089e",
   "metadata": {},
   "outputs": [
    {
     "data": {
      "text/plain": [
       "2"
      ]
     },
     "execution_count": 86,
     "metadata": {},
     "output_type": "execute_result"
    }
   ],
   "source": [
    "# printing length of list\n",
    "len(urdu_list)"
   ]
  },
  {
   "cell_type": "code",
   "execution_count": 87,
   "id": "10c6df85",
   "metadata": {},
   "outputs": [],
   "source": [
    "# insert the list item\n",
    "urdu_list.insert(1,\"ولا\")"
   ]
  },
  {
   "cell_type": "code",
   "execution_count": 88,
   "id": "24a498a5",
   "metadata": {},
   "outputs": [
    {
     "data": {
      "text/plain": [
       "['اردو مین پیاتھون کا چلھ', 'ولا', 'میرا نام ولید ھے']"
      ]
     },
     "execution_count": 88,
     "metadata": {},
     "output_type": "execute_result"
    }
   ],
   "source": [
    "urdu_list"
   ]
  },
  {
   "cell_type": "code",
   "execution_count": 89,
   "id": "698dc5d1",
   "metadata": {},
   "outputs": [],
   "source": [
    "# copy the list item to another variable\n",
    "list_two = urdu_list.copy()"
   ]
  },
  {
   "cell_type": "code",
   "execution_count": 90,
   "id": "7753e132",
   "metadata": {},
   "outputs": [
    {
     "data": {
      "text/plain": [
       "['اردو مین پیاتھون کا چلھ', 'ولا', 'میرا نام ولید ھے']"
      ]
     },
     "execution_count": 90,
     "metadata": {},
     "output_type": "execute_result"
    }
   ],
   "source": [
    "list_two"
   ]
  },
  {
   "cell_type": "code",
   "execution_count": 91,
   "id": "8e72425e",
   "metadata": {},
   "outputs": [],
   "source": [
    "# reverse the list\n",
    "list_two.reverse()"
   ]
  },
  {
   "cell_type": "code",
   "execution_count": 92,
   "id": "f2644fff",
   "metadata": {},
   "outputs": [
    {
     "data": {
      "text/plain": [
       "['میرا نام ولید ھے', 'ولا', 'اردو مین پیاتھون کا چلھ']"
      ]
     },
     "execution_count": 92,
     "metadata": {},
     "output_type": "execute_result"
    }
   ],
   "source": [
    "list_two"
   ]
  },
  {
   "cell_type": "code",
   "execution_count": 93,
   "id": "94413ad8",
   "metadata": {},
   "outputs": [],
   "source": [
    "list_table = [1,2,5,4,6,8,10,7]"
   ]
  },
  {
   "cell_type": "code",
   "execution_count": 94,
   "id": "621f902f",
   "metadata": {},
   "outputs": [],
   "source": [
    "# sort the list means sequence the items in the list\n",
    "list_table.sort()"
   ]
  },
  {
   "cell_type": "code",
   "execution_count": 95,
   "id": "a3957fba",
   "metadata": {},
   "outputs": [
    {
     "data": {
      "text/plain": [
       "[1, 2, 4, 5, 6, 7, 8, 10]"
      ]
     },
     "execution_count": 95,
     "metadata": {},
     "output_type": "execute_result"
    }
   ],
   "source": [
    "list_table"
   ]
  },
  {
   "cell_type": "markdown",
   "id": "6ba18c8f",
   "metadata": {},
   "source": [
    "## Dictionary Data Structure"
   ]
  },
  {
   "cell_type": "code",
   "execution_count": 96,
   "id": "7e790779",
   "metadata": {},
   "outputs": [],
   "source": [
    "# Dictionary syntax\n",
    "_ingredient_Biryani = {'Rice': 2,'Chicken-Meat': 2,'Potatoes': 6, 'Cooking-Oil':1 ,'Yogurt': 1}"
   ]
  },
  {
   "cell_type": "code",
   "execution_count": 97,
   "id": "f68d6ed7",
   "metadata": {},
   "outputs": [],
   "source": [
    "# Dictionary syntax\n",
    "_cookery_needs = {1 : \"Chamcha\",2 : \"Bartaan\"}"
   ]
  },
  {
   "cell_type": "code",
   "execution_count": 98,
   "id": "4eec4ef5",
   "metadata": {},
   "outputs": [
    {
     "data": {
      "text/plain": [
       "{'Rice': 2, 'Chicken-Meat': 2, 'Potatoes': 6, 'Cooking-Oil': 1, 'Yogurt': 1}"
      ]
     },
     "execution_count": 98,
     "metadata": {},
     "output_type": "execute_result"
    }
   ],
   "source": [
    "_ingredient_Biryani"
   ]
  },
  {
   "cell_type": "code",
   "execution_count": 99,
   "id": "66883102",
   "metadata": {},
   "outputs": [
    {
     "data": {
      "text/plain": [
       "dict_items([('Rice', 2), ('Chicken-Meat', 2), ('Potatoes', 6), ('Cooking-Oil', 1), ('Yogurt', 1)])"
      ]
     },
     "execution_count": 99,
     "metadata": {},
     "output_type": "execute_result"
    }
   ],
   "source": [
    "# print the items\n",
    "_ingredient_Biryani.items()"
   ]
  },
  {
   "cell_type": "code",
   "execution_count": 100,
   "id": "9c472024",
   "metadata": {},
   "outputs": [
    {
     "data": {
      "text/plain": [
       "1"
      ]
     },
     "execution_count": 100,
     "metadata": {},
     "output_type": "execute_result"
    }
   ],
   "source": [
    "# set the default my next item\n",
    "_ingredient_Biryani.setdefault(\"Water\",1)"
   ]
  },
  {
   "cell_type": "code",
   "execution_count": 101,
   "id": "4af11350",
   "metadata": {},
   "outputs": [
    {
     "data": {
      "text/plain": [
       "{'Rice': 2,\n",
       " 'Chicken-Meat': 2,\n",
       " 'Potatoes': 6,\n",
       " 'Cooking-Oil': 1,\n",
       " 'Yogurt': 1,\n",
       " 'Water': 1}"
      ]
     },
     "execution_count": 101,
     "metadata": {},
     "output_type": "execute_result"
    }
   ],
   "source": [
    "_ingredient_Biryani"
   ]
  },
  {
   "cell_type": "code",
   "execution_count": 102,
   "id": "964745c3",
   "metadata": {},
   "outputs": [],
   "source": [
    "# clear the dictionary\n",
    "_ingredient_Biryani.clear()"
   ]
  },
  {
   "cell_type": "code",
   "execution_count": 103,
   "id": "c42db4c5",
   "metadata": {},
   "outputs": [],
   "source": [
    "# concatenate the two dictionaries\n",
    "_ingredient_Biryani.update(_cookery_needs)"
   ]
  },
  {
   "cell_type": "code",
   "execution_count": 104,
   "id": "e4191c14",
   "metadata": {},
   "outputs": [
    {
     "data": {
      "text/plain": [
       "{1: 'Chamcha', 2: 'Bartaan'}"
      ]
     },
     "execution_count": 104,
     "metadata": {},
     "output_type": "execute_result"
    }
   ],
   "source": [
    "_ingredient_Biryani"
   ]
  }
 ],
 "metadata": {
  "kernelspec": {
   "display_name": "Python 3 (ipykernel)",
   "language": "python",
   "name": "python3"
  },
  "language_info": {
   "codemirror_mode": {
    "name": "ipython",
    "version": 3
   },
   "file_extension": ".py",
   "mimetype": "text/x-python",
   "name": "python",
   "nbconvert_exporter": "python",
   "pygments_lexer": "ipython3",
   "version": "3.9.7"
  }
 },
 "nbformat": 4,
 "nbformat_minor": 5
}
