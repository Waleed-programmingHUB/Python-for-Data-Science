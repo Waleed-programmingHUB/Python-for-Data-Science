{
 "cells": [
  {
   "cell_type": "markdown",
   "id": "3a6692df",
   "metadata": {},
   "source": [
    "# Indexing and Data structures"
   ]
  },
  {
   "cell_type": "markdown",
   "id": "1115eefa",
   "metadata": {},
   "source": [
    "# - ***Indexing***"
   ]
  },
  {
   "cell_type": "markdown",
   "id": "2648c6f7",
   "metadata": {},
   "source": [
    "# Make a string."
   ]
  },
  {
   "cell_type": "code",
   "execution_count": 1,
   "id": "b3e166c4",
   "metadata": {},
   "outputs": [
    {
     "data": {
      "text/plain": [
       "('Chicken biryani', 'Chicken daal', 'Beef Tikka')"
      ]
     },
     "execution_count": 1,
     "metadata": {},
     "output_type": "execute_result"
    }
   ],
   "source": [
    "# make a string\n",
    "_foodItem1 = \"Chicken biryani\"\n",
    "_foodItem2 = \"Chicken daal\"\n",
    "_foodItem3 = \"Beef Tikka\"\n",
    "\n",
    "_foodItem1,_foodItem2,_foodItem3"
   ]
  },
  {
   "cell_type": "code",
   "execution_count": 2,
   "id": "7c590c79",
   "metadata": {},
   "outputs": [
    {
     "data": {
      "text/plain": [
       "'Chicken biryani'"
      ]
     },
     "execution_count": 2,
     "metadata": {},
     "output_type": "execute_result"
    }
   ],
   "source": [
    "_foodItem1"
   ]
  },
  {
   "cell_type": "markdown",
   "id": "a40a5ba8",
   "metadata": {},
   "source": [
    "# Lenght of string"
   ]
  },
  {
   "cell_type": "markdown",
   "id": "9ef9fd31",
   "metadata": {},
   "source": [
    "**Length method**"
   ]
  },
  {
   "cell_type": "code",
   "execution_count": 3,
   "id": "e9f96410",
   "metadata": {},
   "outputs": [
    {
     "data": {
      "text/plain": [
       "12"
      ]
     },
     "execution_count": 3,
     "metadata": {},
     "output_type": "execute_result"
    }
   ],
   "source": [
    "len(_foodItem2)"
   ]
  },
  {
   "cell_type": "code",
   "execution_count": 4,
   "id": "261faccb",
   "metadata": {},
   "outputs": [
    {
     "data": {
      "text/plain": [
       "'C'"
      ]
     },
     "execution_count": 4,
     "metadata": {},
     "output_type": "execute_result"
    }
   ],
   "source": [
    "_foodItem2[0]"
   ]
  },
  {
   "cell_type": "code",
   "execution_count": 5,
   "id": "49627a56",
   "metadata": {},
   "outputs": [
    {
     "data": {
      "text/plain": [
       "'Chicken'"
      ]
     },
     "execution_count": 5,
     "metadata": {},
     "output_type": "execute_result"
    }
   ],
   "source": [
    "_foodItem2[0:7]"
   ]
  },
  {
   "cell_type": "markdown",
   "id": "2d586d07",
   "metadata": {},
   "source": [
    "# [range : range] \n",
    "## you must to be use the ratio key :"
   ]
  },
  {
   "cell_type": "code",
   "execution_count": 6,
   "id": "952fdf06",
   "metadata": {},
   "outputs": [
    {
     "data": {
      "text/plain": [
       "'Chicken'"
      ]
     },
     "execution_count": 6,
     "metadata": {},
     "output_type": "execute_result"
    }
   ],
   "source": [
    "_foodItem2[-12 : 7]"
   ]
  },
  {
   "cell_type": "markdown",
   "id": "95055d94",
   "metadata": {},
   "source": [
    "# String Methods"
   ]
  },
  {
   "cell_type": "markdown",
   "id": "20cf568d",
   "metadata": {},
   "source": [
    "**1- Capitalize method**"
   ]
  },
  {
   "cell_type": "code",
   "execution_count": 7,
   "id": "9ffec539",
   "metadata": {},
   "outputs": [
    {
     "data": {
      "text/plain": [
       "'Chicken daal'"
      ]
     },
     "execution_count": 7,
     "metadata": {},
     "output_type": "execute_result"
    }
   ],
   "source": [
    "_foodItem2.capitalize()"
   ]
  },
  {
   "cell_type": "markdown",
   "id": "61a0f1a3",
   "metadata": {},
   "source": [
    "**2- Uppercase method**"
   ]
  },
  {
   "cell_type": "code",
   "execution_count": 8,
   "id": "900ec20e",
   "metadata": {},
   "outputs": [
    {
     "data": {
      "text/plain": [
       "'CHICKEN BIRYANI'"
      ]
     },
     "execution_count": 8,
     "metadata": {},
     "output_type": "execute_result"
    }
   ],
   "source": [
    "_foodItem1.upper()"
   ]
  },
  {
   "cell_type": "markdown",
   "id": "245c789e",
   "metadata": {},
   "source": [
    "**3- Lowercase method**"
   ]
  },
  {
   "cell_type": "code",
   "execution_count": 9,
   "id": "5dfaea1d",
   "metadata": {},
   "outputs": [
    {
     "data": {
      "text/plain": [
       "'chicken daal'"
      ]
     },
     "execution_count": 9,
     "metadata": {},
     "output_type": "execute_result"
    }
   ],
   "source": [
    "_foodItem2.lower()"
   ]
  },
  {
   "cell_type": "markdown",
   "id": "24aa0360",
   "metadata": {},
   "source": [
    "**4- Replace method**"
   ]
  },
  {
   "cell_type": "code",
   "execution_count": 10,
   "id": "ce7de0af",
   "metadata": {},
   "outputs": [
    {
     "data": {
      "text/plain": [
       "'Chicken salan'"
      ]
     },
     "execution_count": 10,
     "metadata": {},
     "output_type": "execute_result"
    }
   ],
   "source": [
    "_foodItem2.replace(\"daal\",\"salan\")"
   ]
  },
  {
   "cell_type": "markdown",
   "id": "16cb1456",
   "metadata": {},
   "source": [
    "**5- Count method**"
   ]
  },
  {
   "cell_type": "code",
   "execution_count": 11,
   "id": "3bd78fb9",
   "metadata": {},
   "outputs": [
    {
     "data": {
      "text/plain": [
       "2"
      ]
     },
     "execution_count": 11,
     "metadata": {},
     "output_type": "execute_result"
    }
   ],
   "source": [
    "_personName = \"waleed_ali_sarwar\"\n",
    "_personName.count(\"_\")"
   ]
  },
  {
   "cell_type": "markdown",
   "id": "438b60a7",
   "metadata": {},
   "source": [
    "**6- Find method**"
   ]
  },
  {
   "cell_type": "code",
   "execution_count": 12,
   "id": "ec3b6291",
   "metadata": {},
   "outputs": [
    {
     "data": {
      "text/plain": [
       "11"
      ]
     },
     "execution_count": 12,
     "metadata": {},
     "output_type": "execute_result"
    }
   ],
   "source": [
    "_personName.find(\"s\")"
   ]
  },
  {
   "cell_type": "markdown",
   "id": "accfe4c0",
   "metadata": {},
   "source": [
    "**7- Split method**"
   ]
  },
  {
   "cell_type": "markdown",
   "id": "aad7c3ce",
   "metadata": {},
   "source": [
    "**Split a string in the variable and presented like a ARRAY**"
   ]
  },
  {
   "cell_type": "code",
   "execution_count": 13,
   "id": "8a1cbc2a",
   "metadata": {},
   "outputs": [
    {
     "data": {
      "text/plain": [
       "['MS Office',\n",
       " 'Website Designing',\n",
       " 'Programming',\n",
       " 'Databases',\n",
       " 'Graphics Designing',\n",
       " 'Gamming',\n",
       " 'Computer Repairing.']"
      ]
     },
     "execution_count": 13,
     "metadata": {},
     "output_type": "execute_result"
    }
   ],
   "source": [
    "_my_skills = \"MS Office,Website Designing,Programming,Databases,Graphics Designing,Gamming,Computer Repairing.\"\n",
    "_my_skills.split(\",\")"
   ]
  },
  {
   "cell_type": "markdown",
   "id": "6aa56ddc",
   "metadata": {},
   "source": [
    "# Basic Data Structure in Python"
   ]
  },
  {
   "cell_type": "markdown",
   "id": "f86ccfda",
   "metadata": {},
   "source": [
    "**1. Tuple**"
   ]
  },
  {
   "cell_type": "markdown",
   "id": "c856094a",
   "metadata": {},
   "source": [
    "**2. List**"
   ]
  },
  {
   "cell_type": "markdown",
   "id": "031da9a4",
   "metadata": {},
   "source": [
    "**3. Dictionaries**"
   ]
  },
  {
   "cell_type": "markdown",
   "id": "3d33aaa6",
   "metadata": {},
   "source": [
    "**4. Set**"
   ]
  },
  {
   "cell_type": "markdown",
   "id": "ce133036",
   "metadata": {},
   "source": [
    "## 1. Tuple"
   ]
  },
  {
   "cell_type": "code",
   "execution_count": null,
   "id": "329129c3",
   "metadata": {},
   "outputs": [],
   "source": []
  }
 ],
 "metadata": {
  "kernelspec": {
   "display_name": "Python 3 (ipykernel)",
   "language": "python",
   "name": "python3"
  },
  "language_info": {
   "codemirror_mode": {
    "name": "ipython",
    "version": 3
   },
   "file_extension": ".py",
   "mimetype": "text/x-python",
   "name": "python",
   "nbconvert_exporter": "python",
   "pygments_lexer": "ipython3",
   "version": "3.9.7"
  }
 },
 "nbformat": 4,
 "nbformat_minor": 5
}
