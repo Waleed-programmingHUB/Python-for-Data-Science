{
 "cells": [
  {
   "cell_type": "markdown",
   "metadata": {},
   "source": [
    "# Welcome to Python @2022"
   ]
  },
  {
   "cell_type": "markdown",
   "metadata": {},
   "source": [
    "> <h3>Python Introduction Basic Syntax"
   ]
  },
  {
   "cell_type": "code",
   "execution_count": null,
   "metadata": {},
   "outputs": [],
   "source": [
    "print('waleed ali sarwar')\n",
    "print('learing python for data science as a data scientist @2022')\n",
    "print(\"100% python in URDU Language\")\n"
   ]
  },
  {
   "cell_type": "markdown",
   "metadata": {},
   "source": [
    "><h3>Comments in Python</h3>"
   ]
  },
  {
   "cell_type": "code",
   "execution_count": null,
   "metadata": {},
   "outputs": [],
   "source": [
    "# Single Line Comment"
   ]
  },
  {
   "cell_type": "markdown",
   "metadata": {},
   "source": [
    "> <h3>Operators in Python</h3>"
   ]
  },
  {
   "cell_type": "code",
   "execution_count": null,
   "metadata": {},
   "outputs": [],
   "source": [
    "a = 12\n",
    "b = 1\n",
    "\n",
    "print(\"Addition \" , a + b)\n",
    "print(\"Multiple \" , a * b)\n",
    "print(\"Double Multiplication \" , a ** b)\n",
    "print(\"Subtract \", a - b)\n",
    "print(\"Divide \", a / b)\n",
    "print(\"Double Division\", a // b)\n",
    "print(\"Remainder \" , a % b)\n",
    "\n",
    "#PEMDAS \n",
    "#Parenthesis Exponent Multiply Divide Addition Subtraction\n",
    "print(3**2/2*3/3+6-4)\n"
   ]
  },
  {
   "cell_type": "markdown",
   "metadata": {},
   "source": [
    "> <h3>Strings in Python</h3>"
   ]
  },
  {
   "cell_type": "code",
   "execution_count": null,
   "metadata": {},
   "outputs": [],
   "source": [
    "print(\"I am Strings, Hi!\")\n",
    "print(\"I am learning Python in 2022.\")\n",
    "print('Single Quotes.')\n",
    "print(\"Double Quotes.\")\n",
    "print('''Triple Quotes.''')\n",
    "print(\"What's Up?\")"
   ]
  },
  {
   "cell_type": "markdown",
   "metadata": {},
   "source": [
    "> <h3>Variables in Python</h3> "
   ]
  },
  {
   "cell_type": "code",
   "execution_count": null,
   "metadata": {},
   "outputs": [],
   "source": [
    "_var1 = \"First String Variable\" #string variable\n",
    "_var2 = 22 # integer variable\n",
    "_var3 = 22.2 # float variable\n",
    "\n",
    "#delete the variable\n",
    "# del _var3 \n",
    "#print the type of datatype of the variable\n",
    "print(type(_var1))\n",
    "print(type(_var2))\n",
    "print(type(_var3))"
   ]
  },
  {
   "cell_type": "markdown",
   "metadata": {},
   "source": [
    "> <h3>Inputs in Python</h3>"
   ]
  },
  {
   "cell_type": "code",
   "execution_count": null,
   "metadata": {},
   "outputs": [],
   "source": [
    "# User input in Python \n",
    "# Simple input variable\n",
    "\n",
    "#input Text\n",
    "_Language = input(\"Enter a Current Programming Language: \")\n",
    "print(_Language)\n",
    "\n",
    "#examples\n",
    "\n",
    "#stage 1\n",
    "_name = input(\"Enter your name: \")\n",
    "_greet = \"Hi! \"\n",
    "print(_greet ,_name)\n",
    "# stage 2\n",
    "_age = input(\"How Old are you? \")\n",
    "_greet = \"Good?\"\n",
    "\n",
    "print(_age,_greet, 'You are still young.')"
   ]
  },
  {
   "cell_type": "markdown",
   "metadata": {},
   "source": [
    "> <h3>Conditional and Logical Operators</h3>"
   ]
  },
  {
   "cell_type": "code",
   "execution_count": null,
   "metadata": {},
   "outputs": [],
   "source": [
    "# Conditional in Python\n",
    "\n",
    "# Eqaul to                        ==\n",
    "# Greater than                    >\n",
    "# Less than                       <\n",
    "# Less than and equal to         <=\n",
    "# Greater than and equal to      >=\n",
    "# Not Equal to                   !=\n",
    "\n",
    "# Exapmle\n",
    "\n",
    "print(4 == 4) # Equal to\n",
    "print(5 < 4) # less than\n",
    "print(5 > 4) # Greater than\n",
    "print(5 != 4) # Not Equal to\n",
    "# Applications of Logical operators\n",
    "\n",
    "_age_At_School = 5\n",
    "_user_Age = 4\n",
    "print(\"Response:\",_age_At_School == _user_Age)\n",
    "print(\"Type of datatype is : \",type(_user_Age))\n",
    "print(\"Type of datatype is : \",type(_age_At_School))\n",
    "\n",
    "# input function and logical operator\n",
    "\n",
    "_eligible_Age = 10\n",
    "_inputUser_Age = input(\"HOw old are you ? \")\n",
    "print(\"_InputUser_Age Type of datatype is : \",type(_inputUser_Age))\n",
    "print(_inputUser_Age == _eligible_Age)\n",
    "\n",
    "_inputUser_Age = input(\"Again How old are you ? \")\n",
    "_inputUser_Age = int(_inputUser_Age)\n",
    "print(\"_InputUser_Age Type of datatype is : \",type(_inputUser_Age))\n",
    "print(_inputUser_Age == _eligible_Age)"
   ]
  },
  {
   "cell_type": "markdown",
   "metadata": {},
   "source": [
    "> <h3>Type-conversion in Python</h3>"
   ]
  },
  {
   "cell_type": "code",
   "execution_count": null,
   "metadata": {},
   "outputs": [],
   "source": [
    "# Type Conversion in Python\n",
    "\n",
    "_number_x = 10  # Integer\n",
    "_number_y = 10.1  # float\n",
    "_my_message = \"Hi! Ali?\" # string\n",
    "\n",
    "print(type(_number_x))\n",
    "print(type(_number_y))\n",
    "print(type(_my_message))\n",
    "\n",
    "# implicit type conversion\n",
    "_personName = input(\"What's your Name :\")\n",
    "print('Your name is',_personName)\n",
    "\n",
    "_age = input('How old are you? ')\n",
    "print(\"Your age is\", _age, 'Type of Datatype is', type(int(_age)) )"
   ]
  },
  {
   "cell_type": "markdown",
   "metadata": {},
   "source": [
    " > <h3> If-else, elif statements in Python </h3>"
   ]
  },
  {
   "cell_type": "code",
   "execution_count": null,
   "metadata": {},
   "outputs": [],
   "source": [
    "# Statements in Python\n",
    "\n",
    "# required age at school\n",
    "\n",
    "_var_name = 'Waleed'\n",
    "_var_age = 21\n",
    "_var_required_age = 5\n",
    "\n",
    "# if else statement\n",
    "if _var_age == _var_required_age:\n",
    "    print(\"Join the school.\")\n",
    "elif _var_age >= _var_required_age:\n",
    "    print(\"Sorry your time is over.\")\n",
    "else:\n",
    "    print(\"You cannot go to school ,you are baby!\") "
   ]
  },
  {
   "cell_type": "markdown",
   "metadata": {},
   "source": [
    "> <h3>Functions in Python</h3>"
   ]
  },
  {
   "cell_type": "code",
   "execution_count": null,
   "metadata": {},
   "outputs": [],
   "source": [
    "# Functions in Python\n",
    "\n",
    "# function declaration\n",
    "def print_name(_name): # parametric function\n",
    "    print(\"Hi!\",_name + '.')\n",
    "\n",
    "def add(num1 ,num2):\n",
    "    answers = num1 + num2\n",
    "    return answers \n",
    "\n",
    "def greet():\n",
    "    print(\"Hi! Python.\")\n",
    "\n",
    "# function definition\n",
    "greet()\n",
    "print_name('Waleed')\n",
    "print(add(12,2))\n",
    "\n",
    "# school calculator program\n",
    "# function\n",
    "\n",
    "def school_age_calaulate(_userAge):\n",
    "    if _userAge == 5:\n",
    "        print(\"You can join the school\")\n",
    "    elif _userAge <= 12:\n",
    "        print(\"Of'Course you can join the school\")\n",
    "    elif _userAge < 18:\n",
    "        print(\"You can join the college | Higher Education\")\n",
    "    else:\n",
    "        print(\"Sorry! you are still baby\")\n",
    "\n",
    "# function call\n",
    "school_age_calaulate(12)\n",
    "\n",
    "# future age function\n",
    "def future_Age (_UserAge):\n",
    "    _UserAge = _UserAge + 20\n",
    "    return _UserAge\n",
    "\n",
    "print(\"You future age is\", future_Age(5))"
   ]
  },
  {
   "cell_type": "markdown",
   "metadata": {},
   "source": [
    "> <h3>Loops in Python</h3>"
   ]
  },
  {
   "cell_type": "code",
   "execution_count": null,
   "metadata": {},
   "outputs": [],
   "source": [
    "# loops in Python\n",
    "\n",
    "x = 5\n",
    "y = 10\n",
    "\n",
    "# While Loop\n",
    "while (x < y):\n",
    "    x = x + 1\n",
    "    print(x)\n",
    "\n",
    "# for loop\n",
    "for x in range(11, 15):\n",
    "    print(x)\n",
    "\n",
    "# array\n",
    "_month = [\n",
    "    1, \"Jan\",\n",
    "    2, \"Feb\",\n",
    "    3, \"Mar\",\n",
    "    4, \"May\",\n",
    "    5, \"Apr\",\n",
    "    6, \"Jun\",\n",
    "    7, \"July\",\n",
    "    8, \"Aug\",\n",
    "    9, \"Sept\",\n",
    "    10, \"Oct\",\n",
    "    11, \"Nov\",\n",
    "    12, \"Dec\"\n",
    "]\n",
    "# printing the array\n",
    "for month in _month:\n",
    "    print(month)\n",
    "\n",
    "print(\"\\n---- Using break statement\")\n",
    "for month in _month:\n",
    "    if (month == 4): break # break the loop here\n",
    "    print(month)\n",
    "\n",
    "print(\"\\n---- Using continue statement\")\n",
    "for month in _month:\n",
    "    if (month == 4): continue # continue the loop futhur\n",
    "    print(month)"
   ]
  },
  {
   "cell_type": "markdown",
   "metadata": {},
   "source": [
    "> <h3>Import Libraries In Python</h3>"
   ]
  },
  {
   "cell_type": "code",
   "execution_count": null,
   "metadata": {},
   "outputs": [],
   "source": [
    "# Import Libraries in Python\n",
    "import math as m # mathematics \n",
    "import statistics as s # statistics\n",
    "\n",
    "print(m.pi)  # printing the PI value\n",
    "print(m.pow(2,2)) # printing the power of 2\n",
    "# array\n",
    "x = [\n",
    "    100,\n",
    "    300,\n",
    "    200,\n",
    "    400\n",
    "]\n",
    "print('''Mean is''',s.mean(x))  # printing the mean of the data"
   ]
  },
  {
   "cell_type": "markdown",
   "metadata": {},
   "source": [
    "# Simple Program in Python "
   ]
  },
  {
   "cell_type": "code",
   "execution_count": null,
   "metadata": {},
   "outputs": [],
   "source": [
    "_varBusinessName = input(\"Enter your business name:\")\n",
    "_varOwnerName = input(\"Your name please :\")\n",
    "_varInvestmentMoney = input(\"How much money you have to invest ?\")\n",
    "\n",
    "_varBusinessName.capitalize()\n",
    "_varOwnerName.capitalize()\n",
    "\n",
    "_varInvestmentMoney = int(_varInvestmentMoney)\n",
    "\n",
    "if _varInvestmentMoney > 1000:\n",
    "    print(\"\\nMessage :Make more money to invest!\\n\".capitalize())\n",
    "elif _varInvestmentMoney >= 10000:\n",
    "    print(\"\\nMessage :You can Open the Shop in the market.\\n\".capitalize())\n",
    "else:\n",
    "    print(\"\\nMessage :you are baby? go to home.\\n\".capitalize())\n",
    "\n",
    "print(\"YourName =\",_varOwnerName)\n",
    "print(\"Business Name =\",_varBusinessName)\n",
    "print(\"Your current money = Rs.\"+_varInvestmentMoney)"
   ]
  }
 ],
 "metadata": {
  "interpreter": {
   "hash": "b95a87182e449c198776faed64932316c4a4365ddd27f5c9e1ce1e2645bd3c4f"
  },
  "kernelspec": {
   "display_name": "Python 3 (ipykernel)",
   "language": "python",
   "name": "python3"
  },
  "language_info": {
   "codemirror_mode": {
    "name": "ipython",
    "version": 3
   },
   "file_extension": ".py",
   "mimetype": "text/x-python",
   "name": "python",
   "nbconvert_exporter": "python",
   "pygments_lexer": "ipython3",
   "version": "3.9.7"
  }
 },
 "nbformat": 4,
 "nbformat_minor": 2
}
