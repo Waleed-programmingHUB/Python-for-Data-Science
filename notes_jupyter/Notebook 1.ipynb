{
 "cells": [
  {
   "cell_type": "markdown",
   "id": "f94399b4",
   "metadata": {
    "scrolled": true
   },
   "source": [
    "# Learn Jupyter Notebook @2022\n",
    "## Learn Python for Data Science\n",
    "## Basics of Python\n",
    "### First Python Program\n",
    "**Syntax Code**:"
   ]
  },
  {
   "cell_type": "code",
   "execution_count": null,
   "id": "5d5d3b29",
   "metadata": {
    "scrolled": true
   },
   "outputs": [],
   "source": [
    "print(\"Welcome to Data Science Course 2022\")\n",
    "print(\"Hi!\")\n",
    "print(\"My Name is Waleed Ali Sarwar.\")\n",
    "print(\"I am learning Python for data science.\")\n",
    "print(\"It is very easy to learn.\")\n",
    "print(\"User Friendly Programming language like a English Language.\")\n",
    "print(\"I am very excited to learn python for data science.\")"
   ]
  },
  {
   "cell_type": "markdown",
   "id": "0dc7b8ee",
   "metadata": {},
   "source": [
    "**Operators in Python**"
   ]
  },
  {
   "cell_type": "code",
   "execution_count": null,
   "id": "63693ae8",
   "metadata": {},
   "outputs": [],
   "source": [
    "print(2+2) # Additon\n",
    "print(2-2) # Subtraction\n",
    "print(2*2) # Multiplication\n",
    "print(2**2) # Double multiplication\n",
    "print(2/2) # Divide\n",
    "print(2//2) # Double divide\n",
    "print(2%2) # Remainder\n",
    "\n",
    "#PEMDAS stands for parenthesis Exponents"
   ]
  },
  {
   "cell_type": "code",
   "execution_count": null,
   "id": "b0f3b3be",
   "metadata": {},
   "outputs": [],
   "source": []
  }
 ],
 "metadata": {
  "kernelspec": {
   "display_name": "Python 3 (ipykernel)",
   "language": "python",
   "name": "python3"
  },
  "language_info": {
   "codemirror_mode": {
    "name": "ipython",
    "version": 3
   },
   "file_extension": ".py",
   "mimetype": "text/x-python",
   "name": "python",
   "nbconvert_exporter": "python",
   "pygments_lexer": "ipython3",
   "version": "3.9.7"
  }
 },
 "nbformat": 4,
 "nbformat_minor": 5
}
