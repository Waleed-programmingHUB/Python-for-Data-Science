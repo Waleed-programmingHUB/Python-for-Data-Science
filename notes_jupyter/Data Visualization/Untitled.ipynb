{
 "cells": [
  {
   "cell_type": "markdown",
   "id": "904744dc",
   "metadata": {},
   "source": [
    "# Plot practice set Notebook"
   ]
  },
  {
   "cell_type": "markdown",
   "id": "0f621626",
   "metadata": {},
   "source": [
    "## plot 1 | Count plot | Titanic data set"
   ]
  },
  {
   "cell_type": "code",
   "execution_count": 1,
   "id": "75d22d08",
   "metadata": {},
   "outputs": [],
   "source": [
    "import seaborn as ss\n",
    "import matplotlib.pyplot as "
   ]
  }
 ],
 "metadata": {
  "kernelspec": {
   "display_name": "Python 3 (ipykernel)",
   "language": "python",
   "name": "python3"
  },
  "language_info": {
   "codemirror_mode": {
    "name": "ipython",
    "version": 3
   },
   "file_extension": ".py",
   "mimetype": "text/x-python",
   "name": "python",
   "nbconvert_exporter": "python",
   "pygments_lexer": "ipython3",
   "version": "3.9.7"
  }
 },
 "nbformat": 4,
 "nbformat_minor": 5
}
